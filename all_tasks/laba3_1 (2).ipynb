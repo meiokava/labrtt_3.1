{
 "cells": [
  {
   "cell_type": "markdown",
   "metadata": {},
   "source": [
    "# Лабораторная работа 3.1"
   ]
  },
  {
   "cell_type": "markdown",
   "metadata": {},
   "source": [
    "## Счастливый билетик\n",
    "\n",
    "![](http://f2.mylove.ru/UNiHT7dRJ4.jpg)\n",
    "\n",
    "Билет считается счастливым, если выполнено следующее условие: сумма первых трёх цифр номера равна сумме последних трёх цифр.\n",
    "\n",
    "**Задание:**\n",
    "\n",
    "1) Определите число `ticket_number` — шестизначный номер билета;\n",
    "\n",
    "2) Напишите код, который по шестизначному номеру `ticket_number` билетика проверяет, является ли он счастливым;\n",
    "\n",
    "3) Если номер счастливый, выведите строку `Yes`, иначе — `No`.\n",
    "\n",
    "---\n",
    "\n",
    "**Пример 1:**\n",
    "\n",
    "*Input:* 123456\n",
    "\n",
    "*Output:* No\n",
    "\n",
    "\n",
    "**Пример 2:**\n",
    "\n",
    "*Input:* 123042\n",
    "\n",
    "*Output:* Yes"
   ]
  },
  {
   "cell_type": "code",
   "execution_count": 1,
   "metadata": {},
   "outputs": [
    {
     "name": "stdout",
     "output_type": "stream",
     "text": [
      "Enter the number on your ticket:123321\n",
      "Yes\n"
     ]
    }
   ],
   "source": [
    "ticket_number = int(input(\"Enter the number on your ticket:\"))\n",
    "ahead_3 = ticket_number // 1000\n",
    "behind_3 = ticket_number % 1000\n",
    "if (ahead_3 // 100 + ahead_3 // 10 % 10 + ahead_3 % 10 == behind_3 // 100 + behind_3 // 10 % 10 + behind_3 % 10):\n",
    "  print(\"Yes\")\n",
    "else:\n",
    "  print(\"No\")"
   ]
  },
  {
   "cell_type": "markdown",
   "metadata": {},
   "source": [
    "## Пароль\n",
    "\n",
    "![](http://forum.ixbt.com/post.cgi?id=attach:77:14138:1341:1)\n",
    "\n",
    "Пусть пароль может содержать только латинские буквы, знаки препинания и цифры.\n",
    "\n",
    "Пароль считается надёжным, если удовлетворяет следующим условиям:\n",
    "- содержит буквы в разных регистрах;\n",
    "- содержит цифры;\n",
    "- содержит не менее `4` уникальных символов;\n",
    "- не содержит ваше имя латинницей, записанное буквами любых регистров (anna, iVan, ...).\n",
    "\n",
    "Иначе пароль считается слабым.\n",
    "\n",
    "**Задание:**\n",
    "\n",
    "1) Определите строку `password` — придуманный вами пароль;\n",
    "\n",
    "2) Напишите код, который по паролю `password` проверяет, является ли он надёжным;\n",
    "\n",
    "3) Если пароль надёжный, выведите строку `strong`, иначе — `weak`.\n",
    "\n",
    "\n",
    "---\n",
    "\n",
    "Пусть имя пользоватея -- Андрей.\n",
    "\n",
    "**Пример 1:**\n",
    "\n",
    "*Input:* Aandrei123\n",
    "\n",
    "*Output:* weak\n",
    "\n",
    "\n",
    "**Пример 2:**\n",
    "\n",
    "*Input:* an12dRei\n",
    "\n",
    "*Output:* strong"
   ]
  },
  {
   "cell_type": "code",
   "execution_count": 2,
   "metadata": {},
   "outputs": [
    {
     "name": "stdout",
     "output_type": "stream",
     "text": [
      "Enter your password: ament24\n",
      "Enter your name: min\n",
      "the password is weak\n"
     ]
    }
   ],
   "source": [
    "password = input(\"Enter your password: \")\n",
    "name = input(\"Enter your name: \")\n",
    "if (password == password.upper() or password == password.lower() or password.isalpha() \n",
    "   or len(set(password)) < 4 or name.lower() in password.lower()):\n",
    "  print(\"the password is weak\")\n",
    "else:\n",
    "  print(\"the password is strong\")"
   ]
  },
  {
   "cell_type": "markdown",
   "metadata": {},
   "source": [
    "## Числа Фибоначчи\n",
    "Как известно, [числа Фибоначчи](https://ru.wikipedia.org/wiki/%D0%A7%D0%B8%D1%81%D0%BB%D0%B0_%D0%A4%D0%B8%D0%B1%D0%BE%D0%BD%D0%B0%D1%87%D1%87%D0%B8) — это последовательность чисел, каждое из которых равно сумме двух предыдущих (первые два числа равны $1$):\n",
    "$$\n",
    "    1, 1, 2, 3, 5, 8, 13, \\ldots\n",
    "$$\n",
    "\n",
    "**Задание:**\n",
    "\n",
    "1) Определите число `amount` — количество чисел Фибоначчи, которые надо вывести;\n",
    "\n",
    "2) Напишите код, который выводит первые `amount` чисел Фибоначчи.\n",
    "\n",
    "---\n",
    "\n",
    "**Пример 1:**\n",
    "\n",
    "*Input:* 3\n",
    "\n",
    "*Output:* 1 1 2\n",
    "\n",
    "\n",
    "**Пример 2:**\n",
    "\n",
    "*Input:* 10\n",
    "\n",
    "*Output:* 1 1 2 3 5 8 13 21 34 55\n"
   ]
  },
  {
   "cell_type": "code",
   "execution_count": 3,
   "metadata": {},
   "outputs": [
    {
     "name": "stdout",
     "output_type": "stream",
     "text": [
      "Enter a digit: 3\n",
      "1\n",
      "1\n",
      "2\n",
      "3\n"
     ]
    }
   ],
   "source": [
    "amount = int(input(\"Enter a digit: \"))\n",
    "a, b = 0, 1\n",
    "print(b)\n",
    "for i in range(amount):\n",
    "    sum = a + b\n",
    "    a = b\n",
    "    b = sum\n",
    "    print(b)"
   ]
  },
  {
   "cell_type": "markdown",
   "metadata": {},
   "source": [
    "## Время исследований\n",
    "\n",
    "![](https://2.bp.blogspot.com/-VOT5x12UqPY/WSh53tQ94HI/AAAAAAAAAMY/-nlcz28_Fj4UzJjbn4bBINKCnzwag1W4QCLcB/s1600/my-pic-widget.jpg)\n",
    "\n",
    "На сайте https://www.kaggle.com/ выберите любой набор данных в формате CSV и проведите для него маленькое исследование: загрузите данные из набора с использованием стандартного модуля `csv`, посмотрите средние значения и стандартные отклонения двух выбранных числовых атрибутов, найдите [методом наименьших квадратов](https://ru.wikipedia.org/wiki/%D0%9C%D0%B5%D1%82%D0%BE%D0%B4_%D0%BD%D0%B0%D0%B8%D0%BC%D0%B5%D0%BD%D1%8C%D1%88%D0%B8%D1%85_%D0%BA%D0%B2%D0%B0%D0%B4%D1%80%D0%B0%D1%82%D0%BE%D0%B2) уравнение линейной зависимости, связывающей один числовой атрибут с другим. Для оценки заданной зависимости найдите [коэффициент парной корреляции](https://ru.wikipedia.org/wiki/%D0%9A%D0%BE%D1%80%D1%80%D0%B5%D0%BB%D1%8F%D1%86%D0%B8%D1%8F), сделайте соответствующие выводы.\n",
    "\n",
    "**Результаты надо обязательно прокомментировать и пояснить!**\n",
    "\n",
    "---\n",
    "\n",
    "**Пример 1:**\n",
    "\n",
    "Пусть таблица `bikes.csv` содержит данные по арендам велосипедов за $2$ года:\n",
    "- `datetime`: дата и время аренды\n",
    "- `season`: время года\n",
    "- `temp`: температура воздуха по Цельсию\n",
    "- `windspeed`: скорость ветра \n",
    "- `registered`: число аренд\n",
    "\n",
    "Одно из направлений исследования могло бы заключаться в проверке зависимости суммарного числа аренд от температуры воздуха."
   ]
  },
  {
   "cell_type": "markdown",
   "metadata": {},
   "source": [
    "*в такой ячейке (режим Markdown) можно писать текст*"
   ]
  },
  {
   "cell_type": "code",
   "execution_count": 14,
   "metadata": {},
   "outputs": [],
   "source": [
    "import csv\n",
    "from math import sqrt\n",
    "\n",
    "\n",
    "with open('train.csv',encoding = 'utf-8') as csvfile:\n",
    "    f = csv.reader(csvfile, delimiter=',')\n",
    "    hgt = []\n",
    "    wdth = []\n",
    "    for element in f:\n",
    "        if element[0] == \"battery_power\":\n",
    "            continue\n",
    "        hgt.append(int(element[11]))\n",
    "        wdth.append(int(element[12]))"
   ]
  },
  {
   "cell_type": "markdown",
   "metadata": {},
   "source": [
    "Здесь должны быть кратко описаны результаты исследования и обнаруженых фактов.\n",
    "\n",
    "...\n",
    "\n",
    "..."
   ]
  },
  {
   "cell_type": "code",
   "execution_count": 15,
   "metadata": {},
   "outputs": [
    {
     "name": "stdout",
     "output_type": "stream",
     "text": [
      "average meaning for height: 645.108\n",
      "average meaning for width: 1251.5155\n"
     ]
    }
   ],
   "source": [
    "hh = sum(hgt) / len(hgt)\n",
    "ww = sum(wdth) / len(wdth)\n",
    "print(f\"average meaning for height: {hh}\")\n",
    "print(f\"average meaning for width: {ww}\")"
   ]
  },
  {
   "cell_type": "code",
   "execution_count": 16,
   "metadata": {},
   "outputs": [
    {
     "name": "stdout",
     "output_type": "stream",
     "text": [
      "393685874.6720002\n",
      "2000\n",
      "Стандартное отклонение 1: 443.6698517321186\n",
      "Стандартное отклонение 2: 432.09138357499097\n"
     ]
    }
   ],
   "source": [
    "v1 = sum((el-hh)**2 for el in hgt) / len(hgt)\n",
    "st_v = sqrt(v1)\n",
    "v2 = sum((elem-ww)**2 for elem in wdth) / len(wdth)\n",
    "st_b = sqrt(v2)\n",
    "print(sum((el-hh)**2 for el in hgt))\n",
    "print(len(hgt))\n",
    "print(f\"Стандартное отклонение 1: {st_v}\")\n",
    "print(f\"Стандартное отклонение 2: {st_b}\")"
   ]
  },
  {
   "cell_type": "code",
   "execution_count": 17,
   "metadata": {},
   "outputs": [
    {
     "name": "stderr",
     "output_type": "stream",
     "text": [
      "C:\\Users\\ryaza\\AppData\\Local\\Temp\\ipykernel_29724\\3721584870.py:4: FutureWarning: Dropping of nuisance columns in DataFrame reductions (with 'numeric_only=None') is deprecated; in a future version this will raise TypeError.  Select only valid columns before calling the reduction.\n",
      "  data.std()\n"
     ]
    },
    {
     "data": {
      "text/plain": [
       "index                             454.230301\n",
       "price                               3.932030\n",
       "retail_price                       30.357863\n",
       "units_sold                       9356.539302\n",
       "uses_ad_boosts                      0.495639\n",
       "rating                              0.515374\n",
       "rating_count                     1983.928834\n",
       "rating_five_count                 980.203270\n",
       "rating_four_count                 400.516231\n",
       "rating_three_count                311.690656\n",
       "rating_two_count                  151.343933\n",
       "rating_one_count                  214.075544\n",
       "badges_count                        0.340709\n",
       "badge_local_product                 0.134565\n",
       "badge_product_quality               0.262472\n",
       "badge_fast_shipping                 0.112075\n",
       "product_variation_inventory        21.353137\n",
       "shipping_option_price               1.024371\n",
       "shipping_is_express                 0.050379\n",
       "countries_shipped_to               20.301203\n",
       "inventory_total                     2.562799\n",
       "has_urgency_banner                  0.000000\n",
       "merchant_rating_count           78474.455607\n",
       "merchant_rating                     0.204768\n",
       "merchant_has_profile_picture        0.350871\n",
       "dtype: float64"
      ]
     },
     "execution_count": 17,
     "metadata": {},
     "output_type": "execute_result"
    }
   ],
   "source": [
    "import numpy as np \n",
    "import pandas as pd \n",
    "data = pd.read_csv('summer-products-with-rating-and-performance_2020-08.csv')\n",
    "data.std()"
   ]
  },
  {
   "cell_type": "code",
   "execution_count": 19,
   "metadata": {},
   "outputs": [
    {
     "name": "stdout",
     "output_type": "stream",
     "text": [
      "Уравнение линейной зависимости: y = 0.4973375913350377x + 22.682295711534607\n"
     ]
    }
   ],
   "source": [
    "sum_ab = 0\n",
    "sum_square = 0\n",
    "\n",
    "for i, el in enumerate(hgt):\n",
    "    sum_ab += el * wdth[i]\n",
    "    sum_square += el**2\n",
    "\n",
    "size = len(hgt)\n",
    "k_lin = (size * sum_ab - sum(hgt) * sum(wdth))/(size * sum_square - sum(hgt)**2)\n",
    "b_lin = hh - ww * k_lin\n",
    "func_val = []\n",
    "\n",
    "for el in hgt:\n",
    "    func_val.append(k_lin * el + b_lin)\n",
    "\n",
    "print(f\"Уравнение линейной зависимости: y = {k_lin}x + {b_lin}\")"
   ]
  },
  {
   "cell_type": "code",
   "execution_count": 20,
   "metadata": {},
   "outputs": [
    {
     "name": "stdout",
     "output_type": "stream",
     "text": [
      "Коэффициент парной корреляции: 0.5106644191393129\n"
     ]
    }
   ],
   "source": [
    "cor_chisl = 0\n",
    "for i, el in enumerate(hgt):\n",
    "    cor_chisl += (el - hh)*(wdth[i] - ww)\n",
    "sqr_diff_vol = sum((el-hh)**2 for el in hgt)\n",
    "sqr_diff_bag = sum((el-ww)**2 for el in wdth)\n",
    "r_xy = cor_chisl / sqrt(sqr_diff_vol * sqr_diff_bag)\n",
    "print(f\"Коэффициент парной корреляции: {r_xy}\")"
   ]
  },
  {
   "cell_type": "code",
   "execution_count": null,
   "metadata": {},
   "outputs": [],
   "source": []
  }
 ],
 "metadata": {
  "anaconda-cloud": {},
  "kernelspec": {
   "display_name": "Python 3 (ipykernel)",
   "language": "python",
   "name": "python3"
  },
  "language_info": {
   "codemirror_mode": {
    "name": "ipython",
    "version": 3
   },
   "file_extension": ".py",
   "mimetype": "text/x-python",
   "name": "python",
   "nbconvert_exporter": "python",
   "pygments_lexer": "ipython3",
   "version": "3.9.13"
  }
 },
 "nbformat": 4,
 "nbformat_minor": 1
}
