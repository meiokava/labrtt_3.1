{
 "cells": [
  {
   "cell_type": "code",
   "execution_count": 28,
   "id": "21df1d7c",
   "metadata": {},
   "outputs": [],
   "source": [
    "import scipy\n"
   ]
  },
  {
   "cell_type": "code",
   "execution_count": 29,
   "id": "fd208610",
   "metadata": {},
   "outputs": [],
   "source": [
    "import numpy as np"
   ]
  },
  {
   "cell_type": "code",
   "execution_count": 30,
   "id": "3bc440b4",
   "metadata": {},
   "outputs": [],
   "source": [
    "from scipy.linalg import solve"
   ]
  },
  {
   "cell_type": "code",
   "execution_count": 31,
   "id": "5dc14386",
   "metadata": {},
   "outputs": [],
   "source": [
    "A = np.array(\n",
    "[\n",
    "    [1, -2, 3],\n",
    "    [3, 1, -1],\n",
    "    [2, 5, 2],\n",
    "]\n",
    ")"
   ]
  },
  {
   "cell_type": "code",
   "execution_count": 32,
   "id": "b1c5ad5b",
   "metadata": {},
   "outputs": [],
   "source": [
    "b = np.array([2, 3, 9]).reshape((3, 1))"
   ]
  },
  {
   "cell_type": "code",
   "execution_count": 33,
   "id": "49157d59",
   "metadata": {},
   "outputs": [],
   "source": [
    "x = solve(A, b)"
   ]
  },
  {
   "cell_type": "code",
   "execution_count": 34,
   "id": "ebc35e10",
   "metadata": {},
   "outputs": [
    {
     "data": {
      "text/plain": [
       "array([[1.],\n",
       "       [1.],\n",
       "       [1.]])"
      ]
     },
     "execution_count": 34,
     "metadata": {},
     "output_type": "execute_result"
    }
   ],
   "source": [
    "x"
   ]
  },
  {
   "cell_type": "code",
   "execution_count": null,
   "id": "9bf1cea7",
   "metadata": {},
   "outputs": [],
   "source": []
  }
 ],
 "metadata": {
  "kernelspec": {
   "display_name": "linalg",
   "language": "python",
   "name": "linalg"
  },
  "language_info": {
   "codemirror_mode": {
    "name": "ipython",
    "version": 3
   },
   "file_extension": ".py",
   "mimetype": "text/x-python",
   "name": "python",
   "nbconvert_exporter": "python",
   "pygments_lexer": "ipython3",
   "version": "3.10.9"
  }
 },
 "nbformat": 4,
 "nbformat_minor": 5
}
