{
 "cells": [
  {
   "cell_type": "markdown",
   "id": "c6f5db1d",
   "metadata": {},
   "source": [
    "\n",
    "$$\n",
    "\\left\\{\n",
    "    \\begin{matrix}\n",
    "    x  - 2x +3x = 2 \\\\\n",
    "    3x + x - x = 3 \\\\\n",
    "    2x +5x +2x = 9\n",
    "    \\end{matrix}\n",
    "\\right.\n",
    "$$\n",
    "\n"
   ]
  },
  {
   "cell_type": "markdown",
   "id": "3f081eea",
   "metadata": {},
   "source": [
    "Была подключена библиотека Scipy.linalg для решения системы линейных уравнений т.к SciPy — это библиотека Python с открытым исходным кодом для научных вычислений: решение СЛАУ, оптимизация, интеграция, интерполяция и обработка сигналов. Пакет linalg содержит функции для работы с матрицами."
   ]
  },
  {
   "cell_type": "code",
   "execution_count": 1,
   "id": "fff9b347",
   "metadata": {},
   "outputs": [],
   "source": [
    "import scipy"
   ]
  },
  {
   "cell_type": "code",
   "execution_count": 29,
   "id": "fd208610",
   "metadata": {},
   "outputs": [],
   "source": [
    "import numpy as np"
   ]
  },
  {
   "cell_type": "code",
   "execution_count": 30,
   "id": "3bc440b4",
   "metadata": {},
   "outputs": [],
   "source": [
    "from scipy.linalg import solve"
   ]
  },
  {
   "cell_type": "markdown",
   "id": "a70df671",
   "metadata": {},
   "source": [
    "создаём матрицу коэффициентов как двумерный массив с именем A."
   ]
  },
  {
   "cell_type": "code",
   "execution_count": 31,
   "id": "5dc14386",
   "metadata": {},
   "outputs": [],
   "source": [
    "A = np.array(\n",
    "[\n",
    "    [1, -2, 3],\n",
    "    [3, 1, -1],\n",
    "    [2, 5, 2],\n",
    "]\n",
    ")"
   ]
  },
  {
   "cell_type": "markdown",
   "id": "de1c99b4",
   "metadata": {},
   "source": [
    " создаём вектор-строку b как массив с именем b. Чтобы сделать его вектор-столбцом, вызываем .reshape ((2, 1))."
   ]
  },
  {
   "cell_type": "code",
   "execution_count": 32,
   "id": "b1c5ad5b",
   "metadata": {},
   "outputs": [],
   "source": [
    "b = np.array([2, 3, 9]).reshape((3, 1))"
   ]
  },
  {
   "cell_type": "markdown",
   "id": "da7416f2",
   "metadata": {},
   "source": [
    "вызываем .solve() для нашей системы, результат сохраняем в х и выводим его. "
   ]
  },
  {
   "cell_type": "code",
   "execution_count": 33,
   "id": "49157d59",
   "metadata": {},
   "outputs": [],
   "source": [
    "x = solve(A, b)"
   ]
  },
  {
   "cell_type": "code",
   "execution_count": 34,
   "id": "ebc35e10",
   "metadata": {},
   "outputs": [
    {
     "data": {
      "text/plain": [
       "array([[1.],\n",
       "       [1.],\n",
       "       [1.]])"
      ]
     },
     "execution_count": 34,
     "metadata": {},
     "output_type": "execute_result"
    }
   ],
   "source": [
    "x"
   ]
  },
  {
   "cell_type": "code",
   "execution_count": null,
   "id": "257a6f62",
   "metadata": {},
   "outputs": [],
   "source": []
  }
 ],
 "metadata": {
  "kernelspec": {
   "display_name": "linalg",
   "language": "python",
   "name": "linalg"
  },
  "language_info": {
   "codemirror_mode": {
    "name": "ipython",
    "version": 3
   },
   "file_extension": ".py",
   "mimetype": "text/x-python",
   "name": "python",
   "nbconvert_exporter": "python",
   "pygments_lexer": "ipython3",
   "version": "3.10.9"
  }
 },
 "nbformat": 4,
 "nbformat_minor": 5
}
